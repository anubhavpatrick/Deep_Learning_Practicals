{
 "cells": [
  {
   "cell_type": "code",
   "execution_count": 15,
   "metadata": {},
   "outputs": [
    {
     "name": "stdout",
     "output_type": "stream",
     "text": [
      "Time taken: 4.4269561767578125\n",
      "25130.80576293147\n"
     ]
    }
   ],
   "source": [
    "#we demonstrate the benefits of vectorization i.e., removing loops while doing matrix multiplication\n",
    "import numpy as np\n",
    "#multiplication of col vector using numpy=> VECTORIZATION\n",
    "import time\n",
    "tick=time.time()\n",
    "x=np.random.rand(100000)\n",
    "y=np.random.rand(100000)\n",
    "z=np.dot(x,y)\n",
    "tock=time.time()\n",
    "print(\"Time taken: \"+str((tock-tick)*1000))\n",
    "print(z)"
   ]
  },
  {
   "cell_type": "code",
   "execution_count": 16,
   "metadata": {},
   "outputs": [
    {
     "name": "stdout",
     "output_type": "stream",
     "text": [
      "Time taken: 58.71987342834473\n",
      "25130.805762932105\n"
     ]
    }
   ],
   "source": [
    "#multiplication normally\n",
    "z=0\n",
    "tick=time.time()\n",
    "for i in range(0,100000):\n",
    "    z+=x[i]*y[i]\n",
    "tock=time.time()\n",
    "print(\"Time taken: \"+str((tock-tick)*1000))\n",
    "print(z)"
   ]
  },
  {
   "cell_type": "markdown",
   "metadata": {},
   "source": [
    "# Benefits of vectorization during matrix multiplication"
   ]
  },
  {
   "cell_type": "code",
   "execution_count": 10,
   "metadata": {},
   "outputs": [
    {
     "name": "stdout",
     "output_type": "stream",
     "text": [
      "Time Taken: 1025.4430770874023\n"
     ]
    }
   ],
   "source": [
    "#Without using built in functions\n",
    "import numpy as np\n",
    "import time\n",
    "x=np.random.rand(100,100)\n",
    "y=np.random.rand(100,100)\n",
    "z=np.zeros((100,100))\n",
    "sum=0\n",
    "tick=time.time()\n",
    "for i in range(0,100):\n",
    "    for j in range(0,100):\n",
    "        sum=0\n",
    "        for k in range(0,100):\n",
    "            sum+= x[i][k]*y[k][j]\n",
    "        z[i][j]=sum\n",
    "tock=time.time()\n",
    "print(\"Time Taken: \"+str((tock-tick)*1000))\n",
    "        "
   ]
  },
  {
   "cell_type": "code",
   "execution_count": 11,
   "metadata": {},
   "outputs": [
    {
     "name": "stdout",
     "output_type": "stream",
     "text": [
      "Time Taken: 22.08709716796875\n"
     ]
    }
   ],
   "source": [
    "import numpy as np\n",
    "import time\n",
    "x=np.random.rand(100,100)\n",
    "y=np.random.rand(100,100)\n",
    "z=np.zeros((100,100))\n",
    "tick=time.time() \n",
    "z=np.dot(x,y)\n",
    "tock=time.time()\n",
    "print(\"Time Taken: \"+str((tock-tick)*1000))"
   ]
  },
  {
   "cell_type": "code",
   "execution_count": 17,
   "metadata": {},
   "outputs": [
    {
     "name": "stdout",
     "output_type": "stream",
     "text": [
      "[10 10 10 15 20]\n"
     ]
    }
   ],
   "source": [
    "x=np.array([1,5,10,15,20])\n",
    "print(np.maximum(x,10))"
   ]
  },
  {
   "cell_type": "code",
   "execution_count": 20,
   "metadata": {},
   "outputs": [
    {
     "name": "stdout",
     "output_type": "stream",
     "text": [
      "[[ 0.50150001  1.79305502  0.49765232]\n",
      " [ 0.71550169  0.23517351  0.86002164]\n",
      " [-0.35442967  0.34194734  1.11723604]]\n",
      "[[-0.8323164 ]\n",
      " [ 0.73694705]\n",
      " [-1.21220729]]\n",
      "[[-0.41740669 -1.4923891  -0.41420419]\n",
      " [ 0.52728686  0.17331043  0.63379041]\n",
      " [ 0.42964223 -0.41451105 -1.35432167]]\n"
     ]
    }
   ],
   "source": [
    "a = np.random.randn(3, 3)\n",
    "b = np.random.randn(3, 1)\n",
    "c = a*b\n",
    "print(a)\n",
    "print(b)\n",
    "print(c)"
   ]
  },
  {
   "cell_type": "code",
   "execution_count": null,
   "metadata": {},
   "outputs": [],
   "source": []
  }
 ],
 "metadata": {
  "kernelspec": {
   "display_name": "Python 3",
   "language": "python",
   "name": "python3"
  },
  "language_info": {
   "codemirror_mode": {
    "name": "ipython",
    "version": 3
   },
   "file_extension": ".py",
   "mimetype": "text/x-python",
   "name": "python",
   "nbconvert_exporter": "python",
   "pygments_lexer": "ipython3",
   "version": "3.6.6"
  }
 },
 "nbformat": 4,
 "nbformat_minor": 2
}
